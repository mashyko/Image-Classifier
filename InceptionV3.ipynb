{
  "nbformat": 4,
  "nbformat_minor": 0,
  "metadata": {
    "kernelspec": {
      "name": "python3",
      "display_name": "Python 3"
    },
    "language_info": {
      "codemirror_mode": {
        "name": "ipython",
        "version": 3
      },
      "file_extension": ".py",
      "mimetype": "text/x-python",
      "name": "python",
      "nbconvert_exporter": "python",
      "pygments_lexer": "ipython3",
      "version": "3.7.4"
    },
    "colab": {
      "name": "InceptionV3.ipynb",
      "provenance": [],
      "collapsed_sections": [],
      "include_colab_link": true
    },
    "accelerator": "GPU"
  },
  "cells": [
    {
      "cell_type": "markdown",
      "metadata": {
        "id": "view-in-github",
        "colab_type": "text"
      },
      "source": [
        "<a href=\"https://colab.research.google.com/github/mashyko/Image-Classifier-Keras/blob/master/InceptionV3.ipynb\" target=\"_parent\"><img src=\"https://colab.research.google.com/assets/colab-badge.svg\" alt=\"Open In Colab\"/></a>"
      ]
    },
    {
      "cell_type": "markdown",
      "metadata": {
        "collapsed": true,
        "id": "YYE-HaACBZSR",
        "colab_type": "text"
      },
      "source": [
        "(A) Classify the ImageNet Classes with InceptionV3\n",
        "　このInceptionV3では画像の識別率がクラスに依存して、ResNet50よりも低い。像の画像では低いが、花では高い。"
      ]
    },
    {
      "cell_type": "code",
      "metadata": {
        "id": "taaDb1BvCXFl",
        "colab_type": "code",
        "outputId": "59deeee8-dbae-49c6-9bf2-60e991841a9f",
        "colab": {
          "base_uri": "https://localhost:8080/",
          "height": 122
        }
      },
      "source": [
        "from google.colab import drive\n",
        "drive.mount('/content/drive')\n"
      ],
      "execution_count": 0,
      "outputs": [
        {
          "output_type": "stream",
          "text": [
            "Go to this URL in a browser: https://accounts.google.com/o/oauth2/auth?client_id=947318989803-6bn6qk8qdgf4n4g3pfee6491hc0brc4i.apps.googleusercontent.com&redirect_uri=urn%3aietf%3awg%3aoauth%3a2.0%3aoob&response_type=code&scope=email%20https%3a%2f%2fwww.googleapis.com%2fauth%2fdocs.test%20https%3a%2f%2fwww.googleapis.com%2fauth%2fdrive%20https%3a%2f%2fwww.googleapis.com%2fauth%2fdrive.photos.readonly%20https%3a%2f%2fwww.googleapis.com%2fauth%2fpeopleapi.readonly\n",
            "\n",
            "Enter your authorization code:\n",
            "··········\n",
            "Mounted at /content/drive\n"
          ],
          "name": "stdout"
        }
      ]
    },
    {
      "cell_type": "code",
      "metadata": {
        "id": "hwQsEOALBZSU",
        "colab_type": "code",
        "outputId": "90750454-7df2-4835-c69c-4c1c6839691f",
        "colab": {
          "base_uri": "https://localhost:8080/",
          "height": 68
        }
      },
      "source": [
        "from tensorflow.keras.applications.inception_v3 import InceptionV3\n",
        "from tensorflow.keras.preprocessing import image\n",
        "from tensorflow.keras.applications.inception_v3 import preprocess_input, decode_predictions\n",
        "import numpy as np\n",
        "\n",
        "\n",
        "#model = InceptionV3(weights='imagenet')\n",
        "model = InceptionV3(include_top=True, weights='imagenet', input_tensor=None, input_shape=None)\n",
        "\n",
        "img_path = '/content/drive/My Drive/images/elephant.jpg'\n",
        "img = image.load_img(img_path, target_size=(299, 299))\n",
        "x = image.img_to_array(img)\n",
        "x = np.expand_dims(x, axis=0)\n",
        "x = preprocess_input(x)\n",
        "\n",
        "#model.summary()\n",
        "\n",
        "preds = model.predict(x)\n",
        "\n",
        "# decode the results into a list of tuples (class, description, probability)\n",
        "# (one such list for each sample in the batch)\n",
        "print('Predicted:', decode_predictions(preds, top=3)[0])\n",
        "\n"
      ],
      "execution_count": 0,
      "outputs": [
        {
          "output_type": "stream",
          "text": [
            "Downloading data from https://storage.googleapis.com/download.tensorflow.org/data/imagenet_class_index.json\n",
            "40960/35363 [==================================] - 0s 0us/step\n",
            "Predicted: [('n02504458', 'African_elephant', 0.6176951), ('n01871265', 'tusker', 0.3164566), ('n02504013', 'Indian_elephant', 0.032580584)]\n"
          ],
          "name": "stdout"
        }
      ]
    },
    {
      "cell_type": "markdown",
      "metadata": {
        "id": "FF_cZ0c-BZSZ",
        "colab_type": "text"
      },
      "source": [
        "(B) Classify the ImageNet with Xception\n",
        "　Xceptionによる画像識別の識別率はInceptionV3よりも低い"
      ]
    },
    {
      "cell_type": "code",
      "metadata": {
        "scrolled": true,
        "id": "Xa7BQTzcBZSa",
        "colab_type": "code",
        "outputId": "e6324d7c-566b-4839-808f-d3d7e951a84c",
        "colab": {
          "base_uri": "https://localhost:8080/",
          "height": 68
        }
      },
      "source": [
        "from tensorflow.keras.applications.xception import Xception\n",
        "from tensorflow.keras.preprocessing import image\n",
        "from tensorflow.keras.applications.xception import preprocess_input, decode_predictions\n",
        "import numpy as np\n",
        "\n",
        "model = Xception(weights='imagenet')\n",
        "img_path = '/content/drive/My Drive/images/elephant.jpg'\n",
        "img = image.load_img(img_path, target_size=(299, 299))\n",
        "x = image.img_to_array(img)\n",
        "x = np.expand_dims(x, axis=0)\n",
        "x = preprocess_input(x)\n",
        "\n",
        "#model.summary()\n",
        "\n",
        "preds = model.predict(x)\n",
        "\n",
        "# decode the results into a list of tuples (class, description, probability)\n",
        "# (one such list for each sample in the batch)\n",
        "print('Predicted:', decode_predictions(preds, top=3)[0])\n",
        "\n"
      ],
      "execution_count": 0,
      "outputs": [
        {
          "output_type": "stream",
          "text": [
            "Downloading data from https://github.com/fchollet/deep-learning-models/releases/download/v0.4/xception_weights_tf_dim_ordering_tf_kernels.h5\n",
            "91889664/91884032 [==============================] - 3s 0us/step\n",
            "Predicted: [('n01871265', 'tusker', 0.43045747), ('n02504458', 'African_elephant', 0.3166525), ('n02504013', 'Indian_elephant', 0.11049301)]\n"
          ],
          "name": "stdout"
        }
      ]
    },
    {
      "cell_type": "markdown",
      "metadata": {
        "collapsed": true,
        "id": "3BsW8-CaBZSc",
        "colab_type": "text"
      },
      "source": [
        "(C) InceptionresnetV2によるImageNet classification：識別率は相当高い"
      ]
    },
    {
      "cell_type": "code",
      "metadata": {
        "id": "L7v_FLZOBZSd",
        "colab_type": "code",
        "outputId": "261a4a2a-46c2-43d6-c9e4-bdf11a9d40e0",
        "colab": {
          "base_uri": "https://localhost:8080/",
          "height": 68
        }
      },
      "source": [
        "from tensorflow.keras.applications.inception_resnet_v2 import InceptionResNetV2\n",
        "from tensorflow.keras.preprocessing import image\n",
        "from tensorflow.keras.applications.inception_resnet_v2 import preprocess_input, decode_predictions\n",
        "import numpy as np\n",
        "\n",
        "model = InceptionResNetV2(weights='imagenet')\n",
        "\n",
        "iimg_path = '/content/drive/My Drive/images/elephant.jpg'\n",
        "\n",
        "img = image.load_img(img_path, target_size=(299, 299))\n",
        "x = image.img_to_array(img)\n",
        "x = np.expand_dims(x, axis=0)\n",
        "x = preprocess_input(x)\n",
        "\n",
        "#model.summary()\n",
        "\n",
        "preds = model.predict(x)\n",
        "\n",
        "# decode the results into a list of tuples (class, description, probability)\n",
        "# (one such list for each sample in the batch)\n",
        "print('Predicted:', decode_predictions(preds, top=3)[0])\n",
        "\n"
      ],
      "execution_count": 0,
      "outputs": [
        {
          "output_type": "stream",
          "text": [
            "Downloading data from https://github.com/fchollet/deep-learning-models/releases/download/v0.7/inception_resnet_v2_weights_tf_dim_ordering_tf_kernels.h5\n",
            "225214464/225209952 [==============================] - 7s 0us/step\n",
            "Predicted: [('n02504458', 'African_elephant', 0.77102673), ('n01871265', 'tusker', 0.13585167), ('n02504013', 'Indian_elephant', 0.047247753)]\n"
          ],
          "name": "stdout"
        }
      ]
    },
    {
      "cell_type": "code",
      "metadata": {
        "id": "mrBrlz3QBZSi",
        "colab_type": "code",
        "colab": {}
      },
      "source": [
        ""
      ],
      "execution_count": 0,
      "outputs": []
    }
  ]
}
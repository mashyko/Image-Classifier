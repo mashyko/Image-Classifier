{
  "nbformat": 4,
  "nbformat_minor": 0,
  "metadata": {
    "kernelspec": {
      "display_name": "Python 3",
      "language": "python",
      "name": "python3"
    },
    "language_info": {
      "codemirror_mode": {
        "name": "ipython",
        "version": 3
      },
      "file_extension": ".py",
      "mimetype": "text/x-python",
      "name": "python",
      "nbconvert_exporter": "python",
      "pygments_lexer": "ipython3",
      "version": "3.7.4"
    },
    "colab": {
      "name": "Install_check.ipynb",
      "provenance": [],
      "include_colab_link": true
    }
  },
  "cells": [
    {
      "cell_type": "markdown",
      "metadata": {
        "id": "view-in-github",
        "colab_type": "text"
      },
      "source": [
        "<a href=\"https://colab.research.google.com/github/mashyko/Image-Classifier-Keras/blob/master/Install_check.ipynb\" target=\"_parent\"><img src=\"https://colab.research.google.com/assets/colab-badge.svg\" alt=\"Open In Colab\"/></a>"
      ]
    },
    {
      "cell_type": "code",
      "metadata": {
        "scrolled": true,
        "id": "gLFxsHv7FXM6",
        "colab_type": "code",
        "outputId": "9d352c18-1d35-4306-caa6-81c481b14c10",
        "colab": {
          "base_uri": "https://localhost:8080/",
          "height": 199
        }
      },
      "source": [
        "# -*- coding: utf-8 -*-\n",
        "try:\n",
        "    import numpy\n",
        "    numpyExists = True\n",
        "except ImportError:\n",
        "    numpyExists = False\n",
        "\n",
        "try:\n",
        "    import scipy\n",
        "    scipyExists = True\n",
        "except ImportError:\n",
        "    scipyExists = False\n",
        "\n",
        "try:\n",
        "    import matplotlib\n",
        "    matplotlibExists = True\n",
        "except ImportError:\n",
        "    matplotlibExists = False\n",
        "\n",
        "try:\n",
        "    from PIL import Image\n",
        "    PILExists = True\n",
        "except ImportError:\n",
        "    PILExists = False\n",
        "\n",
        "try:\n",
        "    import keras\n",
        "    kerasExists = True\n",
        "except ImportError:\n",
        "    kerasExists = False\n",
        "\n",
        "try:\n",
        "    import tensorflow\n",
        "    tensorflowExists = True\n",
        "except ImportError:\n",
        "    tensorflowExists = False\n",
        "\n",
        "if numpyExists == True:\n",
        "    print('numpyのバージョンは{0}です'.format(numpy.__version__))\n",
        "else:\n",
        "    print('numpyはインストールされていません')\n",
        "\n",
        "if scipyExists == True:\n",
        "    print('scipyのバージョンは{0}です'.format(scipy.__version__))\n",
        "else:\n",
        "    print('scypyはインストールされていません')\n",
        "\n",
        "if matplotlibExists == True:\n",
        "    print('matplotlibのバージョンは{0}です'.format(matplotlib.__version__))\n",
        "else:\n",
        "    print('matplotlibはインストールされていません')\n",
        "\n",
        "if PILExists == True:\n",
        "    print('PIL(Pillow)のバージョンは{0}です'.format(Image.PILLOW_VERSION))\n",
        "else:\n",
        "    print('PIL(Pillow)はインストールされていません')\n",
        "\n",
        "if kerasExists == True:\n",
        "    print('kerasのバージョンは{0}です'.format(keras.__version__))\n",
        "else:\n",
        "    print('kerasがインストールされていないか、まだ設定が済んでいません')\n",
        "\n",
        "if tensorflowExists == True:\n",
        "    print('tensorflowのバージョンは{0}です'.format(tensorflow.__version__))\n",
        "else:\n",
        "    print('tensorflowはインストールされていません')\n"
      ],
      "execution_count": 0,
      "outputs": [
        {
          "output_type": "stream",
          "text": [
            "Using TensorFlow backend.\n"
          ],
          "name": "stderr"
        },
        {
          "output_type": "display_data",
          "data": {
            "text/html": [
              "<p style=\"color: red;\">\n",
              "The default version of TensorFlow in Colab will soon switch to TensorFlow 2.x.<br>\n",
              "We recommend you <a href=\"https://www.tensorflow.org/guide/migrate\" target=\"_blank\">upgrade</a> now \n",
              "or ensure your notebook will continue to use TensorFlow 1.x via the <code>%tensorflow_version 1.x</code> magic:\n",
              "<a href=\"https://colab.research.google.com/notebooks/tensorflow_version.ipynb\" target=\"_blank\">more info</a>.</p>\n"
            ],
            "text/plain": [
              "<IPython.core.display.HTML object>"
            ]
          },
          "metadata": {
            "tags": []
          }
        },
        {
          "output_type": "stream",
          "text": [
            "numpyのバージョンは1.17.4です\n",
            "scipyのバージョンは1.3.3です\n",
            "matplotlibのバージョンは3.1.2です\n",
            "PIL(Pillow)のバージョンは4.3.0です\n",
            "kerasのバージョンは2.2.5です\n",
            "tensorflowのバージョンは1.15.0です\n"
          ],
          "name": "stdout"
        }
      ]
    },
    {
      "cell_type": "code",
      "metadata": {
        "id": "h4o_TMV_FXNB",
        "colab_type": "code",
        "colab": {}
      },
      "source": [
        ""
      ],
      "execution_count": 0,
      "outputs": []
    }
  ]
}